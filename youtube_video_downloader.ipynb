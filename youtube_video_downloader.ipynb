{
 "cells": [
  {
   "cell_type": "code",
   "execution_count": null,
   "metadata": {},
   "outputs": [],
   "source": [
    "# import libraries\n",
    "from tkinter import *\n",
    "from pytube import YouTube\n",
    "\n",
    "# creting display window\n",
    "root = Tk()\n",
    "root.geometry(\"500x500\")\n",
    "root.configure(bg = '#cc0036')\n",
    "root.resizable(0,0)\n",
    "root.title(\"Youtube_Video_Downloader\")\n",
    "\n",
    "Label(root, text = \"Youtube Video Downloader\", font = \"arial 20 bold\", bg = \"#00cc81\").pack()\n",
    "\n",
    "#create field to enter entity\n",
    "link = StringVar()\n",
    "\n",
    "Label(root, text = \"Paste Link Here: \", font = \"arial 15 bold\").place(x = 160, y = 60)\n",
    "link_entry = Entry(root, textvariable = link, width = 70).place(x = 32 ,y = 90)\n",
    "\n",
    "# crete function to start downloading \n",
    "def Downloader():\n",
    "    url =  YouTube(str(link.get())).streams.first().download()\n",
    "    \n",
    "    Label(root, text = 'DOWNLOADED', font = 'arial 15').place(x= 180 , y = 210)  \n",
    "\n",
    "Button(root,text = 'DOWNLOAD', font = 'arial 15 bold' ,bg = 'pale violet red', padx = 2, command = Downloader).place(x=180 ,y = 150)\n",
    "\n",
    "root.mainloop()"
   ]
  },
  {
   "cell_type": "code",
   "execution_count": null,
   "metadata": {},
   "outputs": [],
   "source": []
  }
 ],
 "metadata": {
  "kernelspec": {
   "display_name": "Python 3",
   "language": "python",
   "name": "python3"
  },
  "language_info": {
   "codemirror_mode": {
    "name": "ipython",
    "version": 3
   },
   "file_extension": ".py",
   "mimetype": "text/x-python",
   "name": "python",
   "nbconvert_exporter": "python",
   "pygments_lexer": "ipython3",
   "version": "3.8.5"
  }
 },
 "nbformat": 4,
 "nbformat_minor": 4
}
